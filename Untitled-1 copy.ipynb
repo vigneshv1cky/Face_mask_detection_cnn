{
 "cells": [
  {
   "cell_type": "code",
   "execution_count": 1,
   "id": "4257f240",
   "metadata": {
    "id": "4257f240"
   },
   "outputs": [],
   "source": [
    "# %pip install kaggle"
   ]
  },
  {
   "cell_type": "code",
   "execution_count": 2,
   "id": "ZogHXA0VzJTd",
   "metadata": {
    "id": "ZogHXA0VzJTd"
   },
   "outputs": [],
   "source": [
    "# # configuring the path of Kaggle.json file\n",
    "# !mkdir -p ~/.kaggle\n",
    "# !cp kaggle.json ~/.kaggle/\n",
    "# !chmod 600 ~/.kaggle/kaggle.json"
   ]
  },
  {
   "cell_type": "code",
   "execution_count": 3,
   "id": "yv9lRtGjzML_",
   "metadata": {
    "id": "yv9lRtGjzML_"
   },
   "outputs": [],
   "source": [
    "# # API to fetch the dataset from Kaggle\n",
    "# !kaggle datasets download -d omkargurav/face-mask-dataset"
   ]
  },
  {
   "cell_type": "code",
   "execution_count": 4,
   "id": "3Cj0y5gfyT6V",
   "metadata": {
    "colab": {
     "base_uri": "https://localhost:8080/"
    },
    "executionInfo": {
     "elapsed": 6065,
     "status": "ok",
     "timestamp": 1745870442948,
     "user": {
      "displayName": "Vignesh Murugan",
      "userId": "12343978573352575111"
     },
     "user_tz": 300
    },
    "id": "3Cj0y5gfyT6V",
    "outputId": "ce3b9d67-a4d8-412a-818b-6df1a435f8f6"
   },
   "outputs": [],
   "source": [
    "# # extracting the compessed Dataset\n",
    "# from zipfile import ZipFile\n",
    "\n",
    "# dataset = \"/content/drive/Othercomputers/Vignesh MacBook Air/Face_mask_detection_cnn/face-mask-dataset.zip\"\n",
    "\n",
    "# with ZipFile(dataset, \"r\") as zip:\n",
    "#     zip.extractall()\n",
    "#     print(\"The dataset is extracted\")"
   ]
  },
  {
   "cell_type": "code",
   "execution_count": 5,
   "id": "cdadbb8a",
   "metadata": {},
   "outputs": [
    {
     "data": {
      "text/plain": [
       "'/teamspace/studios/this_studio/Face_mask_detection_cnn'"
      ]
     },
     "execution_count": 5,
     "metadata": {},
     "output_type": "execute_result"
    }
   ],
   "source": [
    "%pwd"
   ]
  },
  {
   "cell_type": "code",
   "execution_count": 6,
   "id": "wm1kMpZ5zRC0",
   "metadata": {
    "colab": {
     "base_uri": "https://localhost:8080/"
    },
    "executionInfo": {
     "elapsed": 115,
     "status": "ok",
     "timestamp": 1745872830502,
     "user": {
      "displayName": "Vignesh Murugan",
      "userId": "12343978573352575111"
     },
     "user_tz": 300
    },
    "id": "wm1kMpZ5zRC0",
    "outputId": "b4f83479-09c2-4a8c-96e9-f5886ed60b78"
   },
   "outputs": [
    {
     "name": "stdout",
     "output_type": "stream",
     "text": [
      " README.md\t\t  best_mask_cnn.pth\t  lightning_logs\n",
      "'Untitled-1 copy.ipynb'   data\t\t\t  mask_detection_app.py\n",
      " Untitled-1.ipynb\t  face-mask-dataset.zip   requirements.txt\n",
      " best_mask_cnn.ckpt\t  lightning.ipynb\n"
     ]
    }
   ],
   "source": [
    "!ls"
   ]
  },
  {
   "cell_type": "code",
   "execution_count": 7,
   "id": "w7J5NB5s0Wca",
   "metadata": {
    "id": "w7J5NB5s0Wca"
   },
   "outputs": [],
   "source": [
    "import os\n",
    "import numpy as np\n",
    "import matplotlib.pyplot as plt\n",
    "from PIL import Image\n",
    "import torch\n",
    "import torch.nn as nn\n",
    "import torch.optim as optim\n",
    "from torchvision import transforms, datasets\n",
    "from torch.utils.data import DataLoader, random_split\n",
    "import cv2\n",
    "import torch.nn.functional as F\n",
    "import copy"
   ]
  },
  {
   "cell_type": "code",
   "execution_count": 8,
   "id": "xJqVUQk3-2zo",
   "metadata": {
    "colab": {
     "base_uri": "https://localhost:8080/"
    },
    "executionInfo": {
     "elapsed": 25,
     "status": "ok",
     "timestamp": 1745872839380,
     "user": {
      "displayName": "Vignesh Murugan",
      "userId": "12343978573352575111"
     },
     "user_tz": 300
    },
    "id": "xJqVUQk3-2zo",
    "outputId": "3a8c0f59-5dcf-4969-f013-32d45dc1e97e"
   },
   "outputs": [
    {
     "data": {
      "text/plain": [
       "('data/with_mask', 'data/without_mask')"
      ]
     },
     "execution_count": 8,
     "metadata": {},
     "output_type": "execute_result"
    }
   ],
   "source": [
    "# Paths\n",
    "data_dir = (\n",
    "    \"data\"\n",
    ")\n",
    "with_mask_dir = os.path.join(data_dir, \"with_mask\")\n",
    "without_mask_dir = os.path.join(data_dir, \"without_mask\")\n",
    "\n",
    "with_mask_dir, without_mask_dir"
   ]
  },
  {
   "cell_type": "code",
   "execution_count": 9,
   "id": "3Yjbyx92-2xY",
   "metadata": {
    "id": "3Yjbyx92-2xY"
   },
   "outputs": [],
   "source": [
    "# Hyperparameters\n",
    "batch_size = 32\n",
    "epochs = 15\n",
    "learning_rate = 1e-3\n",
    "input_size = (128, 128)\n",
    "num_classes = 2"
   ]
  },
  {
   "cell_type": "code",
   "execution_count": 10,
   "id": "pxnckffr-2vQ",
   "metadata": {
    "colab": {
     "base_uri": "https://localhost:8080/"
    },
    "executionInfo": {
     "elapsed": 10,
     "status": "ok",
     "timestamp": 1745872839403,
     "user": {
      "displayName": "Vignesh Murugan",
      "userId": "12343978573352575111"
     },
     "user_tz": 300
    },
    "id": "pxnckffr-2vQ",
    "outputId": "343fefa2-3996-4561-9edd-e667744b72ee"
   },
   "outputs": [
    {
     "data": {
      "text/plain": [
       "Compose(\n",
       "    Resize(size=(128, 128), interpolation=bilinear, max_size=None, antialias=True)\n",
       "    ToTensor()\n",
       ")"
      ]
     },
     "execution_count": 10,
     "metadata": {},
     "output_type": "execute_result"
    }
   ],
   "source": [
    "# Transforms (resizing, to tensor)\n",
    "transform = transforms.Compose(\n",
    "    [transforms.Resize(input_size), transforms.ToTensor()]  # scales to [0,1]\n",
    ")\n",
    "transform"
   ]
  },
  {
   "cell_type": "code",
   "execution_count": 11,
   "id": "u-FjM5gO--PE",
   "metadata": {
    "id": "u-FjM5gO--PE"
   },
   "outputs": [],
   "source": [
    "# Prepare dataset using ImageFolder\n",
    "dataset = datasets.ImageFolder(root=data_dir, transform=transform)\n",
    "\n",
    "# Train/test split (80/20)\n",
    "train_size = int(0.8 * len(dataset))\n",
    "test_size = len(dataset) - train_size\n",
    "train_dataset, test_dataset = random_split(dataset, [train_size, test_size])\n",
    "\n",
    "# Validation split (10% of train)\n",
    "val_size = int(0.1 * train_size)\n",
    "train_size_final = train_size - val_size\n",
    "train_dataset, val_dataset = random_split(train_dataset, [train_size_final, val_size])\n",
    "\n",
    "# DataLoaders\n",
    "train_loader = DataLoader(train_dataset, batch_size=batch_size, shuffle=True)\n",
    "val_loader = DataLoader(val_dataset, batch_size=batch_size)\n",
    "test_loader = DataLoader(test_dataset, batch_size=batch_size)"
   ]
  },
  {
   "cell_type": "code",
   "execution_count": 12,
   "id": "833254f9",
   "metadata": {
    "id": "833254f9"
   },
   "outputs": [],
   "source": [
    "# Device\n",
    "device = torch.device(\"cuda\" if torch.cuda.is_available() else \"cpu\")\n",
    "\n",
    "\n",
    "# Model definition using functional API\n",
    "class MaskCNN(nn.Module):\n",
    "    def __init__(self):\n",
    "        super(MaskCNN, self).__init__()\n",
    "        # conv layer #1: input 3 channels → 32 feature maps, 3×3 kernels\n",
    "        self.conv1 = nn.Conv2d(3, 32, kernel_size=3)\n",
    "        # conv layer #2: 32 → 64 feature maps, 3×3 kernels\n",
    "        self.conv2 = nn.Conv2d(32, 64, kernel_size=3)\n",
    "        # max-pooling halves each spatial dimension\n",
    "        self.pool = nn.MaxPool2d(2)\n",
    "        # after two (conv+pool) on a 128×128 input:\n",
    "        #   conv1 → 32×126×126 → pool → 32×63×63\n",
    "        #   conv2 → 64×61×61   → pool → 64×30×30\n",
    "        self.flatten_dim = 64 * 30 * 30\n",
    "\n",
    "        # fully connected layers\n",
    "        self.fc1 = nn.Linear(self.flatten_dim, 128)\n",
    "        self.fc2 = nn.Linear(128, 64)\n",
    "        self.fc3 = nn.Linear(64, num_classes)  # num_classes (e.g. 2)\n",
    "\n",
    "        # dropout for regularization\n",
    "        self.dropout = nn.Dropout(0.5)\n",
    "\n",
    "    def forward(self, x):\n",
    "        x = F.relu(self.conv1(x))  # conv1 → ReLU\n",
    "        x = self.pool(x)  # downsample\n",
    "\n",
    "        x = F.relu(self.conv2(x))  # conv2 → ReLU\n",
    "        x = self.pool(x)  # downsample\n",
    "\n",
    "        x = x.view(x.size(0), -1)  # flatten to (batch_size, flatten_dim)\n",
    "\n",
    "        x = F.relu(self.fc1(x))  # FC1 → ReLU\n",
    "        x = self.dropout(x)  # dropout\n",
    "        x = F.relu(self.fc2(x))  # FC2 → ReLU\n",
    "        x = self.dropout(x)  # dropout\n",
    "\n",
    "        x = self.fc3(x)  # final logits\n",
    "        return x"
   ]
  },
  {
   "cell_type": "code",
   "execution_count": 28,
   "id": "HrZhSfte_MhF",
   "metadata": {
    "id": "HrZhSfte_MhF"
   },
   "outputs": [],
   "source": [
    "# Instantiate model, criterion, optimizer\n",
    "model = MaskCNN().to(device)\n",
    "criterion = nn.CrossEntropyLoss()\n",
    "optimizer = optim.Adam(model.parameters(), lr=learning_rate)\n",
    "\n",
    "# Training loop\n",
    "train_losses, val_losses = [], []\n",
    "train_accs, val_accs = [], []\n",
    "\n",
    "# Early stopping variables\n",
    "best_val_loss = float(\"inf\")\n",
    "best_model_wts = model.state_dict()\n",
    "counter = 0\n",
    "patience = 5\n",
    "save_path = \"best_mask_cnn.pth\""
   ]
  },
  {
   "cell_type": "code",
   "execution_count": 29,
   "id": "1utWu2CZ_O6y",
   "metadata": {
    "colab": {
     "base_uri": "https://localhost:8080/"
    },
    "executionInfo": {
     "elapsed": 1886868,
     "status": "ok",
     "timestamp": 1745877782441,
     "user": {
      "displayName": "Vignesh Murugan",
      "userId": "12343978573352575111"
     },
     "user_tz": 300
    },
    "id": "1utWu2CZ_O6y",
    "outputId": "6bd6d6d9-4553-44d8-ed50-ed5bc9905cde"
   },
   "outputs": [
    {
     "name": "stderr",
     "output_type": "stream",
     "text": [
      "/home/zeus/miniconda3/envs/cloudspace/lib/python3.10/site-packages/PIL/Image.py:1043: UserWarning: Palette images with Transparency expressed in bytes should be converted to RGBA images\n",
      "  warnings.warn(\n"
     ]
    },
    {
     "name": "stdout",
     "output_type": "stream",
     "text": [
      "Epoch 0/15 - Train loss: 0.4179, accuracy: 0.8058 | Val loss: 0.2898, accuracy: 0.8675\n",
      "→ New best (val loss: 0.2898)\n",
      "Epoch 1/15 - Train loss: 0.2762, accuracy: 0.8875 | Val loss: 0.2236, accuracy: 0.9106\n",
      "→ New best (val loss: 0.2236)\n",
      "Epoch 2/15 - Train loss: 0.2338, accuracy: 0.9022 | Val loss: 0.2226, accuracy: 0.9123\n",
      "→ New best (val loss: 0.2226)\n",
      "Epoch 3/15 - Train loss: 0.2026, accuracy: 0.9204 | Val loss: 0.2161, accuracy: 0.9189\n",
      "→ New best (val loss: 0.2161)\n",
      "Epoch 4/15 - Train loss: 0.1762, accuracy: 0.9299 | Val loss: 0.2061, accuracy: 0.9255\n",
      "→ New best (val loss: 0.2061)\n",
      "Epoch 5/15 - Train loss: 0.1472, accuracy: 0.9421 | Val loss: 0.1932, accuracy: 0.9288\n",
      "→ New best (val loss: 0.1932)\n",
      "Epoch 6/15 - Train loss: 0.1444, accuracy: 0.9467 | Val loss: 0.1828, accuracy: 0.9338\n",
      "→ New best (val loss: 0.1828)\n",
      "Epoch 7/15 - Train loss: 0.1361, accuracy: 0.9498 | Val loss: 0.2419, accuracy: 0.9321\n",
      "Epoch 8/15 - Train loss: 0.1093, accuracy: 0.9595 | Val loss: 0.2227, accuracy: 0.9371\n",
      "Epoch 9/15 - Train loss: 0.0995, accuracy: 0.9610 | Val loss: 0.1794, accuracy: 0.9387\n",
      "→ New best (val loss: 0.1794)\n",
      "Epoch 10/15 - Train loss: 0.0857, accuracy: 0.9697 | Val loss: 0.2207, accuracy: 0.9371\n",
      "Epoch 11/15 - Train loss: 0.0749, accuracy: 0.9711 | Val loss: 0.2080, accuracy: 0.9421\n",
      "Epoch 12/15 - Train loss: 0.0705, accuracy: 0.9730 | Val loss: 0.2056, accuracy: 0.9371\n",
      "Epoch 13/15 - Train loss: 0.0667, accuracy: 0.9770 | Val loss: 0.2138, accuracy: 0.9371\n",
      "Epoch 14/15 - Train loss: 0.0625, accuracy: 0.9774 | Val loss: 0.2205, accuracy: 0.9371\n",
      "Early stopping at epoch 14 (no improvement in 5 epochs)\n"
     ]
    }
   ],
   "source": [
    "for epoch in range(0, epochs):\n",
    "    model.train()\n",
    "    running_loss, correct, total = 0.0, 0, 0\n",
    "    for imgs, labels in train_loader:\n",
    "        imgs, labels = imgs.to(device), labels.to(device)\n",
    "        optimizer.zero_grad()\n",
    "        outputs = model(imgs)\n",
    "        loss = criterion(outputs, labels)\n",
    "        loss.backward()\n",
    "        optimizer.step()\n",
    "        running_loss += loss.item() * imgs.size(0)\n",
    "        _, preds = torch.max(outputs, 1)\n",
    "        correct += (preds == labels).sum().item()\n",
    "        total += labels.size(0)\n",
    "    epoch_loss = running_loss / total\n",
    "    epoch_acc = correct / total\n",
    "    train_losses.append(epoch_loss)\n",
    "    train_accs.append(epoch_acc)\n",
    "\n",
    "    # Validation\n",
    "    model.eval()\n",
    "    val_loss, val_correct, val_total = 0.0, 0, 0\n",
    "    with torch.no_grad():\n",
    "        for imgs, labels in val_loader:\n",
    "            imgs, labels = imgs.to(device), labels.to(device)\n",
    "            outputs = model(imgs)\n",
    "            loss = criterion(outputs, labels)\n",
    "            val_loss += loss.item() * imgs.size(0)\n",
    "            _, preds = torch.max(outputs, 1)\n",
    "            val_correct += (preds == labels).sum().item()\n",
    "            val_total += labels.size(0)\n",
    "    val_epoch_loss = val_loss / val_total\n",
    "    val_epoch_acc = val_correct / val_total\n",
    "    val_losses.append(val_epoch_loss)\n",
    "    val_accs.append(val_epoch_acc)\n",
    "\n",
    "    print(\n",
    "        f\"Epoch {epoch}/{epochs} - \"\n",
    "        f\"Train loss: {epoch_loss:.4f}, accuracy: {epoch_acc:.4f} | \"\n",
    "        f\"Val loss: {val_epoch_loss:.4f}, accuracy: {val_epoch_acc:.4f}\"\n",
    "    )\n",
    "\n",
    "    # Early stopping check\n",
    "    if val_epoch_loss < best_val_loss:\n",
    "        best_val_loss = val_epoch_loss\n",
    "        best_model_wts = copy.deepcopy(model.state_dict())\n",
    "        counter = 0\n",
    "        print(f\"→ New best (val loss: {val_epoch_loss:.4f})\")\n",
    "        # torch.save(model.state_dict(), save_path)\n",
    "        # print(f\"→ Saved new best model (val loss: {val_epoch_loss:.4f})\")\n",
    "    else:\n",
    "        counter += 1\n",
    "        if counter >= patience:\n",
    "            print(\n",
    "                f\"Early stopping at epoch {epoch} (no improvement in {patience} epochs)\"\n",
    "            )\n",
    "            break"
   ]
  },
  {
   "cell_type": "code",
   "execution_count": 30,
   "id": "NYuodAlYZsmc",
   "metadata": {
    "colab": {
     "base_uri": "https://localhost:8080/"
    },
    "executionInfo": {
     "elapsed": 54,
     "status": "ok",
     "timestamp": 1745877789788,
     "user": {
      "displayName": "Vignesh Murugan",
      "userId": "12343978573352575111"
     },
     "user_tz": 300
    },
    "id": "NYuodAlYZsmc",
    "outputId": "3360e14a-a049-4981-8a02-58850618a34c"
   },
   "outputs": [
    {
     "name": "stdout",
     "output_type": "stream",
     "text": [
      "Best model saved to best_mask_cnn.pth (val loss: 0.1794)\n"
     ]
    }
   ],
   "source": [
    "torch.save(best_model_wts, save_path)\n",
    "print(f\"Best model saved to {save_path} (val loss: {best_val_loss:.4f})\")"
   ]
  },
  {
   "cell_type": "code",
   "execution_count": 31,
   "id": "a6iWIQKL_Z97",
   "metadata": {
    "colab": {
     "base_uri": "https://localhost:8080/"
    },
    "executionInfo": {
     "elapsed": 11387,
     "status": "ok",
     "timestamp": 1745877842767,
     "user": {
      "displayName": "Vignesh Murugan",
      "userId": "12343978573352575111"
     },
     "user_tz": 300
    },
    "id": "a6iWIQKL_Z97",
    "outputId": "a8d3dd6d-fa27-4306-825d-3adbf9b5faf9"
   },
   "outputs": [
    {
     "name": "stdout",
     "output_type": "stream",
     "text": [
      "Test Accuracy = 0.9365\n"
     ]
    }
   ],
   "source": [
    "# Test evaluation\n",
    "model.load_state_dict(torch.load(save_path, map_location=device))\n",
    "\n",
    "model.eval()\n",
    "correct, total = 0, 0\n",
    "with torch.no_grad():\n",
    "    for imgs, labels in test_loader:\n",
    "        imgs, labels = imgs.to(device), labels.to(device)\n",
    "        outputs = model(imgs)\n",
    "        _, preds = torch.max(outputs, 1)\n",
    "        correct += (preds == labels).sum().item()\n",
    "        total += labels.size(0)\n",
    "print(f\"Test Accuracy = {correct / total:.4f}\")"
   ]
  },
  {
   "cell_type": "code",
   "execution_count": 32,
   "id": "otrggnUHEF9M",
   "metadata": {
    "colab": {
     "base_uri": "https://localhost:8080/",
     "height": 1000
    },
    "executionInfo": {
     "elapsed": 560,
     "status": "ok",
     "timestamp": 1745877848966,
     "user": {
      "displayName": "Vignesh Murugan",
      "userId": "12343978573352575111"
     },
     "user_tz": 300
    },
    "id": "otrggnUHEF9M",
    "outputId": "54c04a0b-16a0-4735-912d-647738327ae2"
   },
   "outputs": [
    {
     "data": {
      "image/png": "[encoded data removed]",
      "text/plain": [
       "<Figure size 1000x500 with 1 Axes>"
      ]
     },
     "metadata": {},
     "output_type": "display_data"
    },
    {
     "data": {
      "image/png": "[encoded data removed]",
      "text/plain": [
       "<Figure size 1000x500 with 1 Axes>"
      ]
     },
     "metadata": {},
     "output_type": "display_data"
    }
   ],
   "source": [
    "# Plot training curves\n",
    "\n",
    "plt.style.use(\"ggplot\")\n",
    "\n",
    "plt.figure(figsize=(10, 5))\n",
    "plt.title(\"Training and validation losses\")\n",
    "plt.plot(train_losses, label=\"train loss\", c = \"c\")\n",
    "plt.plot(val_losses, label=\"val loss\", c = \"r\")\n",
    "plt.xlabel(\"Epochs\")\n",
    "plt.ylabel(\"Loss\")\n",
    "plt.legend()\n",
    "plt.show()\n",
    "\n",
    "plt.figure(figsize=(10, 5))\n",
    "plt.title(\"Training and validation accuracy\")\n",
    "plt.plot(train_accs, label=\"train acc\",c = \"c\")\n",
    "plt.plot(val_accs, label=\"val acc\", c = \"r\")\n",
    "plt.xlabel(\"Epochs\")\n",
    "plt.ylabel(\"Accuracy\")\n",
    "plt.legend()\n",
    "plt.show()"
   ]
  },
  {
   "cell_type": "code",
   "execution_count": null,
   "id": "c9b82ca1",
   "metadata": {},
   "outputs": [],
   "source": []
  }
 ],
 "metadata": {
  "accelerator": "GPU",
  "colab": {
   "gpuType": "A100",
   "machine_shape": "hm",
   "provenance": []
  },
  "kernelspec": {
   "display_name": "DSA_5900",
   "language": "python",
   "name": "python3"
  },
  "language_info": {
   "codemirror_mode": {
    "name": "ipython",
    "version": 3
   },
   "file_extension": ".py",
   "mimetype": "text/x-python",
   "name": "python",
   "nbconvert_exporter": "python",
   "pygments_lexer": "ipython3",
   "version": "3.9.18"
  }
 },
 "nbformat": 4,
 "nbformat_minor": 5
}
